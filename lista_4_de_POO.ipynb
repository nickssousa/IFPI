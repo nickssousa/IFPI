{
  "nbformat": 4,
  "nbformat_minor": 0,
  "metadata": {
    "colab": {
      "provenance": [],
      "collapsed_sections": [],
      "authorship_tag": "ABX9TyNswBUA14WGAT6StihlrrEu",
      "include_colab_link": true
    },
    "kernelspec": {
      "name": "python3",
      "display_name": "Python 3"
    },
    "language_info": {
      "name": "python"
    }
  },
  "cells": [
    {
      "cell_type": "markdown",
      "metadata": {
        "id": "view-in-github",
        "colab_type": "text"
      },
      "source": [
        "<a href=\"https://colab.research.google.com/github/nickssousa/IFPI/blob/POO/lista_4_de_POO.ipynb\" target=\"_parent\"><img src=\"https://colab.research.google.com/assets/colab-badge.svg\" alt=\"Open In Colab\"/></a>"
      ]
    },
    {
      "cell_type": "markdown",
      "source": [
        "Utilizando o processo de abstração, implementar uma classe que represente uma consulta médica.\n",
        "Execução:\n",
        "- Criar um menu principal para manipulação das consultas médicas criadas.\n",
        "\n",
        "opções:\n",
        "\n",
        "1 - Nova consulta (agendamento)\n",
        "\n",
        "2- Pagar Consulta\n",
        "\n",
        "3- Cancelar consulta\n",
        "\n",
        "4- Agendar retorno\n",
        "\n",
        "5- Relatório de consultas realizadas no mes por médico\n",
        "\n",
        "6- Relatório de faturamento da Clinica por mes\n",
        "\n",
        "OBS: \n",
        "\n",
        "1- Cada médico recebe R$ 200 por consulta realizada\n",
        "\n",
        "2- Valor da consulta: R$ 300\n",
        "\n",
        "3- utilizar todos os recursos vistos até o momento.\n"
      ],
      "metadata": {
        "id": "h1w764kW5wy0"
      }
    },
    {
      "cell_type": "code",
      "execution_count": null,
      "metadata": {
        "colab": {
          "base_uri": "https://localhost:8080/"
        },
        "id": "rX20xYVk5dUr",
        "outputId": "f7f6bf97-d12c-4e42-b245-811798a0429b"
      },
      "outputs": [
        {
          "output_type": "stream",
          "name": "stdout",
          "text": [
            "\n",
            "Menu:\n",
            "1- Agendar consulta: \n",
            "2- Pagar consulta: \n",
            "3- Cancelar consulta:\n",
            "4- Agendar retorno:\n",
            "5- Relatório de consultas realizadas no mês por médico: \n",
            "6- Relatório de fatura da clinica por mês:\n",
            "\n",
            ": 1\n",
            "Nome do cliente: nicolas\n",
            "Qual o médico: lindomar\n",
            "Data de agendamento: 12/03/1992\n",
            "Data de consulta é: 03/05/1993\n",
            "{'Código da consulta': 1, 'Nome': 'nicolas', 'Médico': 'lindomar', 'Data de agendamento: ': '12/03/1992', 'Data da consulta': '03/05/1993', 'Pagamento: ': 'Não realizado.'}\n"
          ]
        }
      ],
      "source": [
        "consul= {}\n",
        "lista= []\n",
        "codigo = 1\n",
        "\n",
        "#class consulta:\n",
        "#  def __init__(self, nome_medico, nome_cliente, dt_agendamento, dt_consulta, dt_retorno, paga):\n",
        "#    self.nome_medico= nome_medico\n",
        "#    self.nome_cliente= nome_cliente\n",
        "#    self.dt_agendamento= dt_agendamento\n",
        "#    self.dt_consulta= dt_consulta\n",
        "#    self.dt_retorno= None\n",
        "#    self.paga= False\n",
        "\n",
        "\n",
        "print('''\n",
        "Menu:\n",
        "1- Agendar consulta: \n",
        "2- Pagar consulta: \n",
        "3- Cancelar consulta:\n",
        "4- Agendar retorno:\n",
        "5- Relatório de consultas realizadas no mês por médico: \n",
        "6- Relatório de fatura da clinica por mês:\n",
        "''')\n",
        "\n",
        "a= input(': ')\n",
        "\n",
        "if a== '1':\n",
        "  consul[\"Código da consulta\"] = codigo\n",
        "  codigo+= 1\n",
        "\n",
        "  nome_cliente= input(\"Nome do cliente: \")\n",
        "  consul[\"Nome\"] = nome_cliente\n",
        "\n",
        "  nome_medico= input(\"Qual o médico: \")\n",
        "  consul[\"Médico\"]= nome_medico\n",
        "\n",
        "  dt_agendamento= input(\"Data de agendamento: \")\n",
        "  consul[\"Data de agendamento: \"] = dt_agendamento\n",
        "\n",
        "  dt_consulta= input(\"Data de consulta é: \")\n",
        "  consul[\"Data da consulta\"] = dt_consulta\n",
        "\n",
        "  consul[\"Pagamento\"] = False\n",
        "  \n",
        "\n",
        "elif a== '2':\n",
        "  b= int(input(\"Digite o código da consulta: \"))\n",
        "  if b == consul[\"Código da consulta\"]:\n",
        "    consul[\"Pagamento\"] = True\n",
        "    print(consul[\"Pagamento\"])\n",
        "  \n",
        "  else:\n",
        "    print(\"Cógido não registrado.\")\n",
        "\n",
        "elif a== '3':\n",
        "  c= int(input(\"Digite o código da consulta: \"))\n",
        "  if c == consul[\"Código da consulta\"]:\n",
        "    del consul[\"Nome\"]\n",
        "    del consul[\"Médico\"]\n",
        "    del consul[\"Data de agendamento\"]\n",
        "    del consul[\"Data da consulta\"]\n",
        "    del consul[\"Pagamento\"]\n",
        "    del consul[\"Código da consulta\"]\n",
        "    print(\"Consulta apagada\")\n",
        "\n",
        "  else:\n",
        "    print(\"Código não encontrado.\")\n",
        "\n",
        "elif a== '4':\n",
        "  c= int(input(\"Digite o código da consulta: \"))\n",
        "  if c == consul[\"Código da consulta\"]:\n",
        "    d= input(\"Digite a data de retorno: \")\n",
        "    consul[\"Data de retorno\"] = d\n",
        "  \n",
        "  else:\n",
        "    print(\"Código não encontrado.\")\n",
        "\n",
        "elif a== '5':\n",
        "  pass\n",
        "\n",
        "elif a== '6':\n",
        "  pass\n",
        "\n",
        "else:\n",
        "  print('tilt no else!')\n",
        "\n",
        "print(consul)\n",
        "\n",
        "\n"
      ]
    }
  ]
}