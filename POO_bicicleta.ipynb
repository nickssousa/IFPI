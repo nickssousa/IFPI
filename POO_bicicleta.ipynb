{
  "nbformat": 4,
  "nbformat_minor": 0,
  "metadata": {
    "colab": {
      "provenance": [],
      "authorship_tag": "ABX9TyMsyMGWmYv4SLj5vRrTP/3v",
      "include_colab_link": true
    },
    "kernelspec": {
      "name": "python3",
      "display_name": "Python 3"
    },
    "language_info": {
      "name": "python"
    }
  },
  "cells": [
    {
      "cell_type": "markdown",
      "metadata": {
        "id": "view-in-github",
        "colab_type": "text"
      },
      "source": [
        "<a href=\"https://colab.research.google.com/github/nickssousa/IFPI/blob/POO/POO_bicicleta.ipynb\" target=\"_parent\"><img src=\"https://colab.research.google.com/assets/colab-badge.svg\" alt=\"Open In Colab\"/></a>"
      ]
    },
    {
      "cell_type": "code",
      "execution_count": null,
      "metadata": {
        "id": "HH0VphBv4RRw"
      },
      "outputs": [],
      "source": [
        "class Bicicleta():\n",
        "\n",
        "    def __init__(self, altura_cela= 6, calibragem_pneus, veloc_atual = 0, calibragemmax= 28):\n",
        "      self.alturamax= 8\n",
        "      self.alturamin= 3\n",
        "      self.altura_cela= altura_cela\n",
        "      self.calibragem_pneus= calibragem_pneus\n",
        "      self.calibragemmax= calibragemmax\n",
        "      self.segundosmax= 60\n",
        "      self.veloc_atual= veloc_atual\n",
        "\n",
        "\n",
        "    def acelerar(self, veloc):\n",
        "        self.veloc_atual+= veloc\n",
        "        print(f'A sua velocidade atual é de {self.veloc_atual} km/hr.')\n",
        "\n",
        "    def frear(self, velo):\n",
        "        if self.veloc_atual > velo:\n",
        "            self.veloc_atual-= velo\n",
        "            print(f'A sua velocidade atual é de {self.veloc_atual} km/hr.')\n",
        "\n",
        "        else:\n",
        "            self.veloc_atual= 0\n",
        "            print(\"Você está parado.\")\n",
        "    \n",
        "    def calibrar_pneus(self, calibrar):\n",
        "        if self.veloc_atual ==0:\n",
        "            self.calibragem_pneus+= calibrar\n",
        "\n",
        "            if self.calibragem_pneus > self.calibragemmax:\n",
        "                print(\"Seu pneu estourou, parabéns.\")\n",
        "\n",
        "            elif self.calibragem_pneus<= 0:\n",
        "                self.calibragem_pneus= 0\n",
        "                print(\"Seu pneu está seco.\")\n",
        "        \n",
        "            else:\n",
        "                print(f'Seu pneu agora está com {self.calibragem_pneus} psi.')\n",
        "\n",
        "        else:\n",
        "            print(\"Ação não pode ser executada por que a bicicleta está em movimento.\")\n",
        "\n",
        "    def ajustar_cela(self, altura):\n",
        "        if self.veloc_atual == 0:\n",
        "            if altura>0:\n",
        "                self.altura_cela+= altura\n",
        "                if self.altura_cela> 8:\n",
        "                    self.altura_cela = 8\n",
        "\n",
        "                print(f'A altura da cela foi ajustada para {self.altura_cela}')\n",
        "        \n",
        "            elif altura< 0:\n",
        "                self.altura_cela+= altura\n",
        "                if self.altura_cela< 3:\n",
        "                    self.altura_cela = 3\n",
        "\n",
        "                print(f'A altura da cela foi ajustada para {self.altura_cela}')\n",
        "        \n",
        "        else:\n",
        "            print(\"Ação não pode ser executada por que a bicicleta está em movimento.\")\n",
        "\n",
        "\n",
        "\n",
        "\n",
        "#bicicleta:\n",
        "            \n",
        "b1= Bicicleta(5, 15)\n",
        "b1.acelerar(13)\n",
        "b1.acelerar(10)\n",
        "b1.frear(30)\n",
        "b1.calibrar_pneus(-50)\n",
        "b1.calibrar_pneus(20)\n",
        "b1.ajustar_cela(10)\n",
        "b1.ajustar_cela(-2"
      ]
    }
  ]
}